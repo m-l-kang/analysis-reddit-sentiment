{
 "cells": [
  {
   "cell_type": "markdown",
   "metadata": {
    "id": "x2N8clgnIsg7"
   },
   "source": [
    "# Getting Classifier Performance\n",
    "Total size of data used: 10.463 MB"
   ]
  },
  {
   "cell_type": "code",
   "execution_count": null,
   "metadata": {
    "id": "mBArMBSRHkOJ"
   },
   "outputs": [],
   "source": [
    "import pandas as pd\n",
    "import numpy as np\n",
    "import seaborn as sns\n",
    "import matplotlib.pyplot as plt"
   ]
  },
  {
   "cell_type": "code",
   "execution_count": null,
   "metadata": {
    "id": "yy77vaFcHp-y"
   },
   "outputs": [],
   "source": [
    "import torch\n",
    "device = torch.device('cuda' if torch.cuda.is_available() else 'cpu')"
   ]
  },
  {
   "cell_type": "code",
   "execution_count": null,
   "metadata": {
    "id": "72jtPVRDHwMv"
   },
   "outputs": [],
   "source": [
    "from xgboost import XGBClassifier\n",
    "from sklearn.model_selection import train_test_split, GridSearchCV\n",
    "from sklearn.metrics import (accuracy_score, classification_report,\n",
    "                             confusion_matrix)"
   ]
  },
  {
   "cell_type": "code",
   "execution_count": null,
   "metadata": {
    "colab": {
     "base_uri": "https://localhost:8080/"
    },
    "id": "xm8e3zn9H1Cn",
    "outputId": "7bf42677-0c63-432c-9db0-0c9f7ac458cc"
   },
   "outputs": [
    {
     "name": "stdout",
     "output_type": "stream",
     "text": [
      "Looking in indexes: https://pypi.org/simple, https://us-python.pkg.dev/colab-wheels/public/simple/\n",
      "Collecting transformers\n",
      "  Downloading transformers-4.30.1-py3-none-any.whl (7.2 MB)\n",
      "\u001b[2K     \u001b[90m━━━━━━━━━━━━━━━━━━━━━━━━━━━━━━━━━━━━━━━━\u001b[0m \u001b[32m7.2/7.2 MB\u001b[0m \u001b[31m99.8 MB/s\u001b[0m eta \u001b[36m0:00:00\u001b[0m\n",
      "\u001b[?25hCollecting datasets\n",
      "  Downloading datasets-2.12.0-py3-none-any.whl (474 kB)\n",
      "\u001b[2K     \u001b[90m━━━━━━━━━━━━━━━━━━━━━━━━━━━━━━━━━━━━━━\u001b[0m \u001b[32m474.6/474.6 kB\u001b[0m \u001b[31m54.5 MB/s\u001b[0m eta \u001b[36m0:00:00\u001b[0m\n",
      "\u001b[?25hCollecting evaluate\n",
      "  Downloading evaluate-0.4.0-py3-none-any.whl (81 kB)\n",
      "\u001b[2K     \u001b[90m━━━━━━━━━━━━━━━━━━━━━━━━━━━━━━━━━━━━━━━━\u001b[0m \u001b[32m81.4/81.4 kB\u001b[0m \u001b[31m11.4 MB/s\u001b[0m eta \u001b[36m0:00:00\u001b[0m\n",
      "\u001b[?25hRequirement already satisfied: filelock in /usr/local/lib/python3.10/dist-packages (from transformers) (3.12.0)\n",
      "Collecting huggingface-hub<1.0,>=0.14.1 (from transformers)\n",
      "  Downloading huggingface_hub-0.15.1-py3-none-any.whl (236 kB)\n",
      "\u001b[2K     \u001b[90m━━━━━━━━━━━━━━━━━━━━━━━━━━━━━━━━━━━━━━\u001b[0m \u001b[32m236.8/236.8 kB\u001b[0m \u001b[31m31.4 MB/s\u001b[0m eta \u001b[36m0:00:00\u001b[0m\n",
      "\u001b[?25hRequirement already satisfied: numpy>=1.17 in /usr/local/lib/python3.10/dist-packages (from transformers) (1.22.4)\n",
      "Requirement already satisfied: packaging>=20.0 in /usr/local/lib/python3.10/dist-packages (from transformers) (23.1)\n",
      "Requirement already satisfied: pyyaml>=5.1 in /usr/local/lib/python3.10/dist-packages (from transformers) (6.0)\n",
      "Requirement already satisfied: regex!=2019.12.17 in /usr/local/lib/python3.10/dist-packages (from transformers) (2022.10.31)\n",
      "Requirement already satisfied: requests in /usr/local/lib/python3.10/dist-packages (from transformers) (2.27.1)\n",
      "Collecting tokenizers!=0.11.3,<0.14,>=0.11.1 (from transformers)\n",
      "  Downloading tokenizers-0.13.3-cp310-cp310-manylinux_2_17_x86_64.manylinux2014_x86_64.whl (7.8 MB)\n",
      "\u001b[2K     \u001b[90m━━━━━━━━━━━━━━━━━━━━━━━━━━━━━━━━━━━━━━━━\u001b[0m \u001b[32m7.8/7.8 MB\u001b[0m \u001b[31m90.5 MB/s\u001b[0m eta \u001b[36m0:00:00\u001b[0m\n",
      "\u001b[?25hCollecting safetensors>=0.3.1 (from transformers)\n",
      "  Downloading safetensors-0.3.1-cp310-cp310-manylinux_2_17_x86_64.manylinux2014_x86_64.whl (1.3 MB)\n",
      "\u001b[2K     \u001b[90m━━━━━━━━━━━━━━━━━━━━━━━━━━━━━━━━━━━━━━━━\u001b[0m \u001b[32m1.3/1.3 MB\u001b[0m \u001b[31m80.4 MB/s\u001b[0m eta \u001b[36m0:00:00\u001b[0m\n",
      "\u001b[?25hRequirement already satisfied: tqdm>=4.27 in /usr/local/lib/python3.10/dist-packages (from transformers) (4.65.0)\n",
      "Requirement already satisfied: pyarrow>=8.0.0 in /usr/local/lib/python3.10/dist-packages (from datasets) (9.0.0)\n",
      "Collecting dill<0.3.7,>=0.3.0 (from datasets)\n",
      "  Downloading dill-0.3.6-py3-none-any.whl (110 kB)\n",
      "\u001b[2K     \u001b[90m━━━━━━━━━━━━━━━━━━━━━━━━━━━━━━━━━━━━━━\u001b[0m \u001b[32m110.5/110.5 kB\u001b[0m \u001b[31m12.8 MB/s\u001b[0m eta \u001b[36m0:00:00\u001b[0m\n",
      "\u001b[?25hRequirement already satisfied: pandas in /usr/local/lib/python3.10/dist-packages (from datasets) (1.5.3)\n",
      "Collecting xxhash (from datasets)\n",
      "  Downloading xxhash-3.2.0-cp310-cp310-manylinux_2_17_x86_64.manylinux2014_x86_64.whl (212 kB)\n",
      "\u001b[2K     \u001b[90m━━━━━━━━━━━━━━━━━━━━━━━━━━━━━━━━━━━━━━\u001b[0m \u001b[32m212.5/212.5 kB\u001b[0m \u001b[31m28.4 MB/s\u001b[0m eta \u001b[36m0:00:00\u001b[0m\n",
      "\u001b[?25hCollecting multiprocess (from datasets)\n",
      "  Downloading multiprocess-0.70.14-py310-none-any.whl (134 kB)\n",
      "\u001b[2K     \u001b[90m━━━━━━━━━━━━━━━━━━━━━━━━━━━━━━━━━━━━━━\u001b[0m \u001b[32m134.3/134.3 kB\u001b[0m \u001b[31m19.8 MB/s\u001b[0m eta \u001b[36m0:00:00\u001b[0m\n",
      "\u001b[?25hRequirement already satisfied: fsspec[http]>=2021.11.1 in /usr/local/lib/python3.10/dist-packages (from datasets) (2023.4.0)\n",
      "Collecting aiohttp (from datasets)\n",
      "  Downloading aiohttp-3.8.4-cp310-cp310-manylinux_2_17_x86_64.manylinux2014_x86_64.whl (1.0 MB)\n",
      "\u001b[2K     \u001b[90m━━━━━━━━━━━━━━━━━━━━━━━━━━━━━━━━━━━━━━━━\u001b[0m \u001b[32m1.0/1.0 MB\u001b[0m \u001b[31m89.2 MB/s\u001b[0m eta \u001b[36m0:00:00\u001b[0m\n",
      "\u001b[?25hCollecting responses<0.19 (from datasets)\n",
      "  Downloading responses-0.18.0-py3-none-any.whl (38 kB)\n",
      "Requirement already satisfied: attrs>=17.3.0 in /usr/local/lib/python3.10/dist-packages (from aiohttp->datasets) (23.1.0)\n",
      "Requirement already satisfied: charset-normalizer<4.0,>=2.0 in /usr/local/lib/python3.10/dist-packages (from aiohttp->datasets) (2.0.12)\n",
      "Collecting multidict<7.0,>=4.5 (from aiohttp->datasets)\n",
      "  Downloading multidict-6.0.4-cp310-cp310-manylinux_2_17_x86_64.manylinux2014_x86_64.whl (114 kB)\n",
      "\u001b[2K     \u001b[90m━━━━━━━━━━━━━━━━━━━━━━━━━━━━━━━━━━━━━━\u001b[0m \u001b[32m114.5/114.5 kB\u001b[0m \u001b[31m17.1 MB/s\u001b[0m eta \u001b[36m0:00:00\u001b[0m\n",
      "\u001b[?25hCollecting async-timeout<5.0,>=4.0.0a3 (from aiohttp->datasets)\n",
      "  Downloading async_timeout-4.0.2-py3-none-any.whl (5.8 kB)\n",
      "Collecting yarl<2.0,>=1.0 (from aiohttp->datasets)\n",
      "  Downloading yarl-1.9.2-cp310-cp310-manylinux_2_17_x86_64.manylinux2014_x86_64.whl (268 kB)\n",
      "\u001b[2K     \u001b[90m━━━━━━━━━━━━━━━━━━━━━━━━━━━━━━━━━━━━━━\u001b[0m \u001b[32m268.8/268.8 kB\u001b[0m \u001b[31m29.5 MB/s\u001b[0m eta \u001b[36m0:00:00\u001b[0m\n",
      "\u001b[?25hCollecting frozenlist>=1.1.1 (from aiohttp->datasets)\n",
      "  Downloading frozenlist-1.3.3-cp310-cp310-manylinux_2_5_x86_64.manylinux1_x86_64.manylinux_2_17_x86_64.manylinux2014_x86_64.whl (149 kB)\n",
      "\u001b[2K     \u001b[90m━━━━━━━━━━━━━━━━━━━━━━━━━━━━━━━━━━━━━━\u001b[0m \u001b[32m149.6/149.6 kB\u001b[0m \u001b[31m22.6 MB/s\u001b[0m eta \u001b[36m0:00:00\u001b[0m\n",
      "\u001b[?25hCollecting aiosignal>=1.1.2 (from aiohttp->datasets)\n",
      "  Downloading aiosignal-1.3.1-py3-none-any.whl (7.6 kB)\n",
      "Requirement already satisfied: typing-extensions>=3.7.4.3 in /usr/local/lib/python3.10/dist-packages (from huggingface-hub<1.0,>=0.14.1->transformers) (4.5.0)\n",
      "Requirement already satisfied: urllib3<1.27,>=1.21.1 in /usr/local/lib/python3.10/dist-packages (from requests->transformers) (1.26.15)\n",
      "Requirement already satisfied: certifi>=2017.4.17 in /usr/local/lib/python3.10/dist-packages (from requests->transformers) (2022.12.7)\n",
      "Requirement already satisfied: idna<4,>=2.5 in /usr/local/lib/python3.10/dist-packages (from requests->transformers) (3.4)\n",
      "Requirement already satisfied: python-dateutil>=2.8.1 in /usr/local/lib/python3.10/dist-packages (from pandas->datasets) (2.8.2)\n",
      "Requirement already satisfied: pytz>=2020.1 in /usr/local/lib/python3.10/dist-packages (from pandas->datasets) (2022.7.1)\n",
      "Requirement already satisfied: six>=1.5 in /usr/local/lib/python3.10/dist-packages (from python-dateutil>=2.8.1->pandas->datasets) (1.16.0)\n",
      "Installing collected packages: tokenizers, safetensors, xxhash, multidict, frozenlist, dill, async-timeout, yarl, responses, multiprocess, huggingface-hub, aiosignal, transformers, aiohttp, datasets, evaluate\n",
      "Successfully installed aiohttp-3.8.4 aiosignal-1.3.1 async-timeout-4.0.2 datasets-2.12.0 dill-0.3.6 evaluate-0.4.0 frozenlist-1.3.3 huggingface-hub-0.15.1 multidict-6.0.4 multiprocess-0.70.14 responses-0.18.0 safetensors-0.3.1 tokenizers-0.13.3 transformers-4.30.1 xxhash-3.2.0 yarl-1.9.2\n"
     ]
    }
   ],
   "source": [
    "!pip install transformers datasets evaluate"
   ]
  },
  {
   "cell_type": "code",
   "execution_count": null,
   "metadata": {
    "colab": {
     "base_uri": "https://localhost:8080/"
    },
    "id": "cf1KYbWdH1m0",
    "outputId": "68d92389-b33f-4658-cc5f-01fcfd3d0ce2"
   },
   "outputs": [
    {
     "name": "stdout",
     "output_type": "stream",
     "text": [
      "Mounted at /content/drive\n"
     ]
    }
   ],
   "source": [
    "from google.colab import drive\n",
    "drive.mount('/content/drive')"
   ]
  },
  {
   "cell_type": "code",
   "execution_count": null,
   "metadata": {
    "colab": {
     "base_uri": "https://localhost:8080/"
    },
    "id": "eoTlnv4-IT3n",
    "outputId": "f1101f60-e7ab-45b6-f892-8b902c211d5f"
   },
   "outputs": [
    {
     "name": "stdout",
     "output_type": "stream",
     "text": [
      "/content/drive/My Drive/Team 3 Stats 170A\n"
     ]
    }
   ],
   "source": [
    "# set to directory in which data file will be stored\n",
    "%cd /content/drive/My Drive/Team 3 Stats 170A/"
   ]
  },
  {
   "cell_type": "code",
   "execution_count": null,
   "metadata": {
    "colab": {
     "base_uri": "https://localhost:8080/",
     "height": 768
    },
    "id": "F0BKI-t2Iabo",
    "outputId": "c0bfb294-73dc-471d-f431-0e001e982f17"
   },
   "outputs": [
    {
     "data": {
      "text/html": [
       "\n",
       "  <div id=\"df-8cbef78a-c583-4944-9227-ba3cbefec658\">\n",
       "    <div class=\"colab-df-container\">\n",
       "      <div>\n",
       "<style scoped>\n",
       "    .dataframe tbody tr th:only-of-type {\n",
       "        vertical-align: middle;\n",
       "    }\n",
       "\n",
       "    .dataframe tbody tr th {\n",
       "        vertical-align: top;\n",
       "    }\n",
       "\n",
       "    .dataframe thead th {\n",
       "        text-align: right;\n",
       "    }\n",
       "</style>\n",
       "<table border=\"1\" class=\"dataframe\">\n",
       "  <thead>\n",
       "    <tr style=\"text-align: right;\">\n",
       "      <th></th>\n",
       "      <th>title</th>\n",
       "      <th>text</th>\n",
       "      <th>post_id</th>\n",
       "      <th>fortinoj@uci.edu</th>\n",
       "      <th>kangml@uci.edu</th>\n",
       "      <th>kezhang@uci.edu</th>\n",
       "      <th>suyeoj2@uci.edu</th>\n",
       "      <th>wregiste@uci.edu</th>\n",
       "      <th>Majority Vote</th>\n",
       "      <th>labels</th>\n",
       "      <th>...</th>\n",
       "      <th>FINANCIAL</th>\n",
       "      <th>FOOD</th>\n",
       "      <th>HEALTH</th>\n",
       "      <th>HOUSING</th>\n",
       "      <th>JOBS</th>\n",
       "      <th>MARKETPLACE</th>\n",
       "      <th>MISSING ITEMS</th>\n",
       "      <th>SOCIAL LIFE</th>\n",
       "      <th>TRANSPORTATION</th>\n",
       "      <th>UNCLASSIFIED</th>\n",
       "    </tr>\n",
       "  </thead>\n",
       "  <tbody>\n",
       "    <tr>\n",
       "      <th>0</th>\n",
       "      <td>Looking for sublease august</td>\n",
       "      <td>Doing summer session 2 and looking for a suble...</td>\n",
       "      <td>w2f42d</td>\n",
       "      <td>Housing</td>\n",
       "      <td>Housing</td>\n",
       "      <td>Housing</td>\n",
       "      <td>Housing</td>\n",
       "      <td>Housing</td>\n",
       "      <td>HOUSING</td>\n",
       "      <td>['HOUSING']</td>\n",
       "      <td>...</td>\n",
       "      <td>0</td>\n",
       "      <td>0</td>\n",
       "      <td>0</td>\n",
       "      <td>1</td>\n",
       "      <td>0</td>\n",
       "      <td>0</td>\n",
       "      <td>0</td>\n",
       "      <td>0</td>\n",
       "      <td>0</td>\n",
       "      <td>0</td>\n",
       "    </tr>\n",
       "    <tr>\n",
       "      <th>1</th>\n",
       "      <td>Regarding financial aid</td>\n",
       "      <td>So I haven’t signed up for 22-23 financial aid...</td>\n",
       "      <td>tlyrdp</td>\n",
       "      <td>Financial</td>\n",
       "      <td>Financial</td>\n",
       "      <td>Financial</td>\n",
       "      <td>Financial</td>\n",
       "      <td>Financial</td>\n",
       "      <td>FINANCIAL</td>\n",
       "      <td>['FINANCIAL']</td>\n",
       "      <td>...</td>\n",
       "      <td>1</td>\n",
       "      <td>0</td>\n",
       "      <td>0</td>\n",
       "      <td>0</td>\n",
       "      <td>0</td>\n",
       "      <td>0</td>\n",
       "      <td>0</td>\n",
       "      <td>0</td>\n",
       "      <td>0</td>\n",
       "      <td>0</td>\n",
       "    </tr>\n",
       "    <tr>\n",
       "      <th>2</th>\n",
       "      <td>What’s the chance of getting the 1b1b floor pl...</td>\n",
       "      <td>I didn’t receive a renew in my current communi...</td>\n",
       "      <td>evvzm9</td>\n",
       "      <td>Housing</td>\n",
       "      <td>Housing</td>\n",
       "      <td>Housing</td>\n",
       "      <td>Housing</td>\n",
       "      <td>Housing</td>\n",
       "      <td>HOUSING</td>\n",
       "      <td>['HOUSING']</td>\n",
       "      <td>...</td>\n",
       "      <td>0</td>\n",
       "      <td>0</td>\n",
       "      <td>0</td>\n",
       "      <td>1</td>\n",
       "      <td>0</td>\n",
       "      <td>0</td>\n",
       "      <td>0</td>\n",
       "      <td>0</td>\n",
       "      <td>0</td>\n",
       "      <td>0</td>\n",
       "    </tr>\n",
       "    <tr>\n",
       "      <th>3</th>\n",
       "      <td>summer classes fin aid &amp;amp; housing??</td>\n",
       "      <td>has anyone taken summer classes at ucr &amp;amp; s...</td>\n",
       "      <td>ebssf5</td>\n",
       "      <td>Housing ;&lt;br&gt; Financial ;&lt;br&gt; Academic</td>\n",
       "      <td>Housing ;&lt;br&gt; Financial</td>\n",
       "      <td>Housing ;&lt;br&gt; Financial</td>\n",
       "      <td>Housing ;&lt;br&gt; Financial</td>\n",
       "      <td>Housing ;&lt;br&gt; Financial ;&lt;br&gt; Academic</td>\n",
       "      <td>HOUSING \\n FINANCIAL \\n ACADEMIC</td>\n",
       "      <td>['FINANCIAL', 'HOUSING', 'ACADEMIC']</td>\n",
       "      <td>...</td>\n",
       "      <td>1</td>\n",
       "      <td>0</td>\n",
       "      <td>0</td>\n",
       "      <td>1</td>\n",
       "      <td>0</td>\n",
       "      <td>0</td>\n",
       "      <td>0</td>\n",
       "      <td>0</td>\n",
       "      <td>0</td>\n",
       "      <td>0</td>\n",
       "    </tr>\n",
       "    <tr>\n",
       "      <th>4</th>\n",
       "      <td>Can you make changes to acc floor plans?</td>\n",
       "      <td>Submitted my app days ago but am rethinking th...</td>\n",
       "      <td>s9e71v</td>\n",
       "      <td>Housing</td>\n",
       "      <td>Housing</td>\n",
       "      <td>Housing</td>\n",
       "      <td>Housing</td>\n",
       "      <td>Housing</td>\n",
       "      <td>HOUSING</td>\n",
       "      <td>['HOUSING']</td>\n",
       "      <td>...</td>\n",
       "      <td>0</td>\n",
       "      <td>0</td>\n",
       "      <td>0</td>\n",
       "      <td>1</td>\n",
       "      <td>0</td>\n",
       "      <td>0</td>\n",
       "      <td>0</td>\n",
       "      <td>0</td>\n",
       "      <td>0</td>\n",
       "      <td>0</td>\n",
       "    </tr>\n",
       "  </tbody>\n",
       "</table>\n",
       "<p>5 rows × 22 columns</p>\n",
       "</div>\n",
       "      <button class=\"colab-df-convert\" onclick=\"convertToInteractive('df-8cbef78a-c583-4944-9227-ba3cbefec658')\"\n",
       "              title=\"Convert this dataframe to an interactive table.\"\n",
       "              style=\"display:none;\">\n",
       "        \n",
       "  <svg xmlns=\"http://www.w3.org/2000/svg\" height=\"24px\"viewBox=\"0 0 24 24\"\n",
       "       width=\"24px\">\n",
       "    <path d=\"M0 0h24v24H0V0z\" fill=\"none\"/>\n",
       "    <path d=\"M18.56 5.44l.94 2.06.94-2.06 2.06-.94-2.06-.94-.94-2.06-.94 2.06-2.06.94zm-11 1L8.5 8.5l.94-2.06 2.06-.94-2.06-.94L8.5 2.5l-.94 2.06-2.06.94zm10 10l.94 2.06.94-2.06 2.06-.94-2.06-.94-.94-2.06-.94 2.06-2.06.94z\"/><path d=\"M17.41 7.96l-1.37-1.37c-.4-.4-.92-.59-1.43-.59-.52 0-1.04.2-1.43.59L10.3 9.45l-7.72 7.72c-.78.78-.78 2.05 0 2.83L4 21.41c.39.39.9.59 1.41.59.51 0 1.02-.2 1.41-.59l7.78-7.78 2.81-2.81c.8-.78.8-2.07 0-2.86zM5.41 20L4 18.59l7.72-7.72 1.47 1.35L5.41 20z\"/>\n",
       "  </svg>\n",
       "      </button>\n",
       "      \n",
       "  <style>\n",
       "    .colab-df-container {\n",
       "      display:flex;\n",
       "      flex-wrap:wrap;\n",
       "      gap: 12px;\n",
       "    }\n",
       "\n",
       "    .colab-df-convert {\n",
       "      background-color: #E8F0FE;\n",
       "      border: none;\n",
       "      border-radius: 50%;\n",
       "      cursor: pointer;\n",
       "      display: none;\n",
       "      fill: #1967D2;\n",
       "      height: 32px;\n",
       "      padding: 0 0 0 0;\n",
       "      width: 32px;\n",
       "    }\n",
       "\n",
       "    .colab-df-convert:hover {\n",
       "      background-color: #E2EBFA;\n",
       "      box-shadow: 0px 1px 2px rgba(60, 64, 67, 0.3), 0px 1px 3px 1px rgba(60, 64, 67, 0.15);\n",
       "      fill: #174EA6;\n",
       "    }\n",
       "\n",
       "    [theme=dark] .colab-df-convert {\n",
       "      background-color: #3B4455;\n",
       "      fill: #D2E3FC;\n",
       "    }\n",
       "\n",
       "    [theme=dark] .colab-df-convert:hover {\n",
       "      background-color: #434B5C;\n",
       "      box-shadow: 0px 1px 3px 1px rgba(0, 0, 0, 0.15);\n",
       "      filter: drop-shadow(0px 1px 2px rgba(0, 0, 0, 0.3));\n",
       "      fill: #FFFFFF;\n",
       "    }\n",
       "  </style>\n",
       "\n",
       "      <script>\n",
       "        const buttonEl =\n",
       "          document.querySelector('#df-8cbef78a-c583-4944-9227-ba3cbefec658 button.colab-df-convert');\n",
       "        buttonEl.style.display =\n",
       "          google.colab.kernel.accessAllowed ? 'block' : 'none';\n",
       "\n",
       "        async function convertToInteractive(key) {\n",
       "          const element = document.querySelector('#df-8cbef78a-c583-4944-9227-ba3cbefec658');\n",
       "          const dataTable =\n",
       "            await google.colab.kernel.invokeFunction('convertToInteractive',\n",
       "                                                     [key], {});\n",
       "          if (!dataTable) return;\n",
       "\n",
       "          const docLinkHtml = 'Like what you see? Visit the ' +\n",
       "            '<a target=\"_blank\" href=https://colab.research.google.com/notebooks/data_table.ipynb>data table notebook</a>'\n",
       "            + ' to learn more about interactive tables.';\n",
       "          element.innerHTML = '';\n",
       "          dataTable['output_type'] = 'display_data';\n",
       "          await google.colab.output.renderOutput(dataTable, element);\n",
       "          const docLink = document.createElement('div');\n",
       "          docLink.innerHTML = docLinkHtml;\n",
       "          element.appendChild(docLink);\n",
       "        }\n",
       "      </script>\n",
       "    </div>\n",
       "  </div>\n",
       "  "
      ],
      "text/plain": [
       "                                               title  \\\n",
       "0                        Looking for sublease august   \n",
       "1                            Regarding financial aid   \n",
       "2  What’s the chance of getting the 1b1b floor pl...   \n",
       "3             summer classes fin aid &amp; housing??   \n",
       "4           Can you make changes to acc floor plans?   \n",
       "\n",
       "                                                text post_id  \\\n",
       "0  Doing summer session 2 and looking for a suble...  w2f42d   \n",
       "1  So I haven’t signed up for 22-23 financial aid...  tlyrdp   \n",
       "2  I didn’t receive a renew in my current communi...  evvzm9   \n",
       "3  has anyone taken summer classes at ucr &amp; s...  ebssf5   \n",
       "4  Submitted my app days ago but am rethinking th...  s9e71v   \n",
       "\n",
       "                           fortinoj@uci.edu             kangml@uci.edu  \\\n",
       "0                                  Housing                    Housing    \n",
       "1                                Financial                  Financial    \n",
       "2                                  Housing                    Housing    \n",
       "3   Housing ;<br> Financial ;<br> Academic    Housing ;<br> Financial    \n",
       "4                                  Housing                    Housing    \n",
       "\n",
       "             kezhang@uci.edu            suyeoj2@uci.edu  \\\n",
       "0                   Housing                    Housing    \n",
       "1                 Financial                  Financial    \n",
       "2                   Housing                    Housing    \n",
       "3   Housing ;<br> Financial    Housing ;<br> Financial    \n",
       "4                   Housing                    Housing    \n",
       "\n",
       "                           wregiste@uci.edu  \\\n",
       "0                                  Housing    \n",
       "1                                Financial    \n",
       "2                                  Housing    \n",
       "3   Housing ;<br> Financial ;<br> Academic    \n",
       "4                                  Housing    \n",
       "\n",
       "                        Majority Vote                                labels  \\\n",
       "0                            HOUSING                            ['HOUSING']   \n",
       "1                          FINANCIAL                          ['FINANCIAL']   \n",
       "2                            HOUSING                            ['HOUSING']   \n",
       "3   HOUSING \\n FINANCIAL \\n ACADEMIC   ['FINANCIAL', 'HOUSING', 'ACADEMIC']   \n",
       "4                            HOUSING                            ['HOUSING']   \n",
       "\n",
       "   ...  FINANCIAL  FOOD  HEALTH  HOUSING  JOBS  MARKETPLACE  MISSING ITEMS  \\\n",
       "0  ...          0     0       0        1     0            0              0   \n",
       "1  ...          1     0       0        0     0            0              0   \n",
       "2  ...          0     0       0        1     0            0              0   \n",
       "3  ...          1     0       0        1     0            0              0   \n",
       "4  ...          0     0       0        1     0            0              0   \n",
       "\n",
       "   SOCIAL LIFE  TRANSPORTATION  UNCLASSIFIED  \n",
       "0            0               0             0  \n",
       "1            0               0             0  \n",
       "2            0               0             0  \n",
       "3            0               0             0  \n",
       "4            0               0             0  \n",
       "\n",
       "[5 rows x 22 columns]"
      ]
     },
     "execution_count": 9,
     "metadata": {},
     "output_type": "execute_result"
    }
   ],
   "source": [
    "# all_labels_encoded_may7.csv is 969 KB\n",
    "df = pd.read_csv(\"./labeling_data/all_labels_encoded_may7.csv\")\n",
    "df.head()"
   ]
  },
  {
   "cell_type": "code",
   "execution_count": null,
   "metadata": {
    "colab": {
     "base_uri": "https://localhost:8080/",
     "height": 569
    },
    "id": "L6lRIZUvIf0q",
    "outputId": "dfdbabc4-fd24-48d9-f33d-94edfb0da0f7"
   },
   "outputs": [
    {
     "data": {
      "image/png": "[encoded data removed]",
      "text/plain": [
       "<Figure size 1000x600 with 1 Axes>"
      ]
     },
     "metadata": {},
     "output_type": "display_data"
    }
   ],
   "source": [
    "# Used to explain some of the later results\n",
    "# Sum each column to get the total count for each label\n",
    "counts = df[['ACADEMIC', 'ADMISSIONS', 'FINANCIAL',\n",
    "       'FOOD', 'HEALTH', 'HOUSING', 'JOBS', 'MARKETPLACE', 'MISSING ITEMS',\n",
    "       'SOCIAL LIFE', 'TRANSPORTATION', 'UNCLASSIFIED']]\n",
    "counts = counts.sum()\n",
    "\n",
    "# Sort the counts in ascending order\n",
    "counts = counts.sort_values()\n",
    "\n",
    "# Define a custom color palette\n",
    "palette = ['b', 'g', 'r', 'c', 'm', 'y', 'k', '#FF8C00', '#8B4513', '#008B8B', '#4B0082', '#8B0000']\n",
    "\n",
    "# Plot the horizontal bar chart\n",
    "plt.figure(figsize=(10,6))  # Set the figure size\n",
    "plt.barh(counts.index, counts.values, color=palette)\n",
    "\n",
    "# Set title and labels for axes\n",
    "plt.xlabel(\"Count\", fontsize=12)\n",
    "plt.ylabel(\"Label\", fontsize=12)\n",
    "plt.title(\"Post Label Distribution\", fontsize=14)\n",
    "\n",
    "# Display the plot\n",
    "plt.show()"
   ]
  },
  {
   "cell_type": "code",
   "execution_count": null,
   "metadata": {
    "id": "DwxdWziJIqVS"
   },
   "outputs": [],
   "source": [
    "# hidden_states_labeled.npy is 8.3 MB\n",
    "all_hidden_states = np.load('./Notebooks/hidden_states_labeled.npy')"
   ]
  },
  {
   "cell_type": "code",
   "execution_count": null,
   "metadata": {
    "id": "zhZyG38ZLoeg"
   },
   "outputs": [],
   "source": [
    "X = all_hidden_states\n",
    "y = list(df.index)\n",
    "X_train, X_test, y_train, y_test = train_test_split(X, y, random_state=42, test_size=0.25)"
   ]
  },
  {
   "cell_type": "code",
   "execution_count": null,
   "metadata": {
    "id": "DPM5mZM-K5gs"
   },
   "outputs": [],
   "source": [
    "labels = ['ACADEMIC', 'ADMISSIONS', 'FINANCIAL',\n",
    "       'FOOD', 'HEALTH', 'HOUSING', 'JOBS', 'MARKETPLACE', 'MISSING ITEMS',\n",
    "       'SOCIAL LIFE', 'TRANSPORTATION', 'UNCLASSIFIED']"
   ]
  },
  {
   "cell_type": "code",
   "execution_count": null,
   "metadata": {
    "id": "G2DPXpOdKf_8"
   },
   "outputs": [],
   "source": [
    "models = [XGBClassifier() for model_name in labels]\n",
    "for i, model in enumerate(models):\n",
    "    model = model.load_model(f'./classifiers/{labels[i]}xgboostclassifier.model')"
   ]
  },
  {
   "cell_type": "code",
   "execution_count": null,
   "metadata": {
    "id": "pl5xCtv4LZYa"
   },
   "outputs": [],
   "source": [
    "from sklearn.metrics import roc_auc_score\n",
    "\n",
    "aucs = []\n",
    "for i, model in enumerate(models):\n",
    "    y_test_labels = df.loc[y_test][labels[i]]\n",
    "    preds = model.predict_proba(X_test)\n",
    "    scores = roc_auc_score(y_test_labels, preds[:, 1])\n",
    "    aucs.append(scores)"
   ]
  },
  {
   "cell_type": "code",
   "execution_count": null,
   "metadata": {
    "colab": {
     "base_uri": "https://localhost:8080/",
     "height": 574
    },
    "id": "c4ofzMKDLecq",
    "outputId": "152c32bd-7d4c-46ce-fe1e-807a280740f1"
   },
   "outputs": [
    {
     "data": {
      "image/png": "[encoded data removed]",
      "text/plain": [
       "<Figure size 1000x600 with 1 Axes>"
      ]
     },
     "metadata": {},
     "output_type": "display_data"
    }
   ],
   "source": [
    "# Sort 'aucs' and 'labels' in decreasing order of 'aucs'\n",
    "sort_idx = np.argsort(aucs)[::-1]\n",
    "aucs = np.array(aucs)[sort_idx]\n",
    "labels = np.array(labels)[sort_idx]\n",
    "\n",
    "sns.set(style=\"whitegrid\")  # Set the style to whitegrid\n",
    "\n",
    "# Define a custom color palette\n",
    "palette = ['b', 'g', 'r', 'c', 'm', 'y', 'k', '#FF8C00', '#8B4513', '#008B8B', '#4B0082', '#8B0000']\n",
    "\n",
    "plt.figure(figsize=(10,6))  # Set the figure size\n",
    "plt.barh(labels, aucs, color=palette)  # Plot the horizontal bar chart\n",
    "\n",
    "plt.xlim(0, max(aucs)+0.1)  # Set the limits for the x-axis\n",
    "\n",
    "# Set title and labels for axes\n",
    "plt.xlabel(\"AUC Score\", fontsize=12)\n",
    "plt.ylabel(\"Models\", fontsize=12)\n",
    "plt.title(\"AUC Scores of Different Models\", fontsize=14)\n",
    "\n",
    "# Display the plot\n",
    "plt.show()"
   ]
  }
 ],
 "metadata": {
  "colab": {
   "provenance": []
  },
  "kernelspec": {
   "display_name": "Python 3 (ipykernel)",
   "language": "python",
   "name": "python3"
  },
  "language_info": {
   "codemirror_mode": {
    "name": "ipython",
    "version": 3
   },
   "file_extension": ".py",
   "mimetype": "text/x-python",
   "name": "python",
   "nbconvert_exporter": "python",
   "pygments_lexer": "ipython3",
   "version": "3.9.1"
  }
 },
 "nbformat": 4,
 "nbformat_minor": 1
}
